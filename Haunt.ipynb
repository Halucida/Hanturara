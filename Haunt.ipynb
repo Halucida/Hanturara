{
  "nbformat": 4,
  "nbformat_minor": 0,
  "metadata": {
    "colab": {
      "provenance": [],
      "authorship_tag": "ABX9TyMVZqDWIBvdcnzFSWk48jLR"
    },
    "kernelspec": {
      "name": "python3",
      "display_name": "Python 3"
    },
    "language_info": {
      "name": "python"
    }
  },
  "cells": [
    {
      "cell_type": "code",
      "source": [
        "import tensorflow as tf\n",
        "\n",
        "from tensorflow.keras.models import Model\n",
        "from tensorflow.keras.optimizers import SGD\n",
        "from tensorflow.keras.layers import Flatten\n",
        "\n",
        "from Helper import *\n",
        "\n",
        "import tensorflow_datasets as tfds; tfds.disable_progress_bar()"
      ],
      "metadata": {
        "id": "5R_Be0i-zAo9"
      },
      "execution_count": null,
      "outputs": []
    },
    {
      "cell_type": "code",
      "source": [
        "mobilet = Mobilenet(input_shape=(160, 160, 3), trainable=False)\n",
        "\n",
        "x = Flatten()(mobilet)\n",
        "\n",
        "model = Model(inputs, outputs)\n",
        "\n",
        "model.compile(loss=loss, metrics=metrics)"
      ],
      "metadata": {
        "id": "krStFuDs1dIo"
      },
      "execution_count": null,
      "outputs": []
    },
    {
      "cell_type": "code",
      "source": [
        "hist = model.fit(train_dataset, validation_data=validation_dataset, epochs=5, callbacks=[runtime])"
      ],
      "metadata": {
        "id": "WYyoou6uICUF"
      },
      "execution_count": null,
      "outputs": []
    }
  ]
}